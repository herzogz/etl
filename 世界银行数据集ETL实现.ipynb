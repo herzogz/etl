{
 "cells": [
  {
   "cell_type": "markdown",
   "metadata": {},
   "source": [
    "# 世界银行数据集ETL实现\n",
    "\n",
    "## 项目目标：\n",
    "* 在这个项目中我从世界银行提取数据、转换数据、加载数据这一整套流程（ETL）\n",
    "\n",
    "为什么要做这样的项目？\n",
    "* 在公司中工作，每天都要创建新的数据。当新数据到来的时候，你需要编写软件来周期性和自动化地提取、转换和加载数据。\n",
    "\n",
    "项目的步骤：\n",
    "1. 你需要每次读入一行 GDP 数据\n",
    "2. 然后将这行数据做转换\n",
    "3. 然后加载到 SQLite 数据库里。\n",
    "\n",
    "以下是本 Jupyter notebook 目录：\n",
    "1. 第一个单元格连接到一个叫做worldbank.db 的 SQLite 数据库，创建一个表，用于保存 GDP 数据。你只需要运行这个单元格即可。\n",
    "2. 第二个单元格有一个函数，叫做 extract_line()。你只需要运行这个单元格即可。该函数是一个 [Python 生成器](https://wiki.python.org/moin/Generators)。完成这个单元格不需要你理解生成器的原理。本质上讲，生成器和函数类似，除了 return 语句不同，生成器使用 yield 语句。生成器让你可以在 for 循环里使用函数。这个函数允许你每次读入一行数据，对该行数据进行转换，然后移向文件的下一行。\n",
    "3. 第三个单元格有一个函数，叫做 transform_indicator_data()。该函数从 csv 文件接收一行，然后对该行进行转换，以备加载步骤使用。\n",
    "4. 第四个单元格包含一个函数，叫做 load_indicator_data()，将转换后的数据加载到worldbank.db 数据库的 GDP 表格中。\n",
    "5. 第五个单元格运行这个 ETL 管道。\n",
    "6. 第六个单元格运行查询语句，确保数据库运行正常。\n",
    "\n",
    "你需要修改第三个和第四个单元格。"
   ]
  },
  {
   "cell_type": "markdown",
   "metadata": {},
   "source": [
    "## 创建表单\n",
    "* 使用SQLite库创建一个表，用于保存GDP数据\n",
    "> SQLite 是一个C语言库，它可以提供一种轻量级的基于磁盘的数据库，这种数据库不需要独立的服务器进程，也允许需要使用一种非标准的 SQL 查询语言来访问它。一些应用程序可以使用 SQLite 作为内部数据存储。可以用它来创建一个应用程序原型，然后再迁移到更大的数据库，比如 PostgreSQL 或 Oracle。"
   ]
  },
  {
   "cell_type": "code",
   "execution_count": 35,
   "metadata": {
    "ExecuteTime": {
     "end_time": "2020-03-20T02:37:49.214232Z",
     "start_time": "2020-03-20T02:37:49.206774Z"
    }
   },
   "outputs": [],
   "source": [
    "import sqlite3\n",
    "conn = sqlite3.connect('worldbank_etl.db')\n",
    "\n",
    "# 获取游标\n",
    "cur = conn.cursor()\n",
    "\n",
    "# 创建表格\n",
    "cur.execute(\"DROP TABLE IF EXISTS gdp\")\n",
    "cur.execute(\"CREATE TABLE gdp (countryname TEXT, countrycode TEXT, year INTEGER, gdp REAL, PRIMARY KEY (countrycode, year));\")\n",
    "\n",
    "conn.commit()\n",
    "conn.close()"
   ]
  },
  {
   "cell_type": "markdown",
   "metadata": {},
   "source": [
    "## 提取数据"
   ]
  },
  {
   "cell_type": "code",
   "execution_count": 36,
   "metadata": {
    "ExecuteTime": {
     "end_time": "2020-03-20T02:37:49.219195Z",
     "start_time": "2020-03-20T02:37:49.216280Z"
    }
   },
   "outputs": [],
   "source": [
    "# 生成器对于大型数据适应内存很有用\n",
    "def extract_lines(file):\n",
    "    while True:\n",
    "        line = file.readline()\n",
    "        if not line:\n",
    "            break\n",
    "        yield line"
   ]
  },
  {
   "cell_type": "code",
   "execution_count": 37,
   "metadata": {
    "ExecuteTime": {
     "end_time": "2020-03-20T02:37:49.232602Z",
     "start_time": "2020-03-20T02:37:49.221420Z"
    }
   },
   "outputs": [],
   "source": [
    "import pandas as pd\n",
    "import numpy as np\n",
    "\n",
    "\n",
    "def transform_indicator_data(data, colnames):\n",
    "    \"\"\"转换清理数据\n",
    "    inputs: data row of data from the csv file\n",
    "            colnames: colnames (list) column names from the csv file\n",
    "\n",
    "    output: list of [countryname, countrycode, year, gdp]\n",
    "    \"\"\"\n",
    "    # 去除双引号\n",
    "    for i, datum in enumerate(data):\n",
    "        data[i] = datum.replace('\"', '')\n",
    "    country = data[0]\n",
    "\n",
    "    # 不是真正国家的名字列表\n",
    "    non_countries = ['World',\n",
    "                     'High income',\n",
    "                     'OECD members',\n",
    "                     'Post-demographic dividend',\n",
    "                     'IDA & IBRD total',\n",
    "                     'Low & middle income',\n",
    "                     'Middle income',\n",
    "                     'IBRD only',\n",
    "                     'East Asia & Pacific',\n",
    "                     'Europe & Central Asia',\n",
    "                     'North America',\n",
    "                     'Upper middle income',\n",
    "                     'Late-demographic dividend',\n",
    "                     'European Union',\n",
    "                     'East Asia & Pacific (excluding high income)',\n",
    "                     'East Asia & Pacific (IDA & IBRD countries)',\n",
    "                     'Euro area',\n",
    "                     'Early-demographic dividend',\n",
    "                     'Lower middle income',\n",
    "                     'Latin America & Caribbean',\n",
    "                     'Latin America & the Caribbean (IDA & IBRD countries)',\n",
    "                     'Latin America & Caribbean (excluding high income)',\n",
    "                     'Europe & Central Asia (IDA & IBRD countries)',\n",
    "                     'Middle East & North Africa',\n",
    "                     'Europe & Central Asia (excluding high income)',\n",
    "                     'South Asia (IDA & IBRD)',\n",
    "                     'South Asia',\n",
    "                     'Arab World',\n",
    "                     'IDA total',\n",
    "                     'Sub-Saharan Africa',\n",
    "                     'Sub-Saharan Africa (IDA & IBRD countries)',\n",
    "                     'Sub-Saharan Africa (excluding high income)',\n",
    "                     'Middle East & North Africa (excluding high income)',\n",
    "                     'Middle East & North Africa (IDA & IBRD countries)',\n",
    "                     'Central Europe and the Baltics',\n",
    "                     'Pre-demographic dividend',\n",
    "                     'IDA only',\n",
    "                     'Least developed countries: UN classification',\n",
    "                     'IDA blend',\n",
    "                     'Fragile and conflict affected situations',\n",
    "                     'Heavily indebted poor countries (HIPC)',\n",
    "                     'Low income',\n",
    "                     'Small states',\n",
    "                     'Other small states',\n",
    "                     'Not classified',\n",
    "                     'Caribbean small states',\n",
    "                     'Pacific island small states']\n",
    "\n",
    "    # 过滤国家名称\n",
    "    if country not in non_countries:\n",
    "        data_array = np.array(data, ndmin=2)\n",
    "        data_array.reshape(1, 63)\n",
    "        df = pd.DataFrame(data_array, columns=colnames).replace('', np.nan)\n",
    "        df.drop(['\\n', 'Indicator Name', 'Indicator Code'],\n",
    "                inplace=True, axis=1)\n",
    "        df_melt = df.melt(id_vars=['Country Name', 'Country Code'],\n",
    "                          var_name='year',\n",
    "                          value_name='gdp')\n",
    "\n",
    "        # 遍历数据，对每一行提取数据生成list[country, countrycode, year, gdp]\n",
    "        results = []\n",
    "        # 遍历dataframe的方法iterrows()\n",
    "        for i, row in df_melt.iterrows():\n",
    "            country, countrycode, year, gdp = row\n",
    "            if str(gdp) != 'nan':\n",
    "                results.append([country, countrycode, year, gdp])\n",
    "\n",
    "        return results"
   ]
  },
  {
   "cell_type": "markdown",
   "metadata": {},
   "source": [
    "## 加载数据"
   ]
  },
  {
   "cell_type": "code",
   "execution_count": 38,
   "metadata": {
    "ExecuteTime": {
     "end_time": "2020-03-20T02:37:49.239132Z",
     "start_time": "2020-03-20T02:37:49.234542Z"
    }
   },
   "outputs": [],
   "source": [
    "def load_indicator_data(results):\n",
    "    \"\"\"遍历数据，加载到数据库的表中\n",
    "    inputs: results (list) looks like[Aruba, ABW, 1995, 1.320670e+09]\n",
    "    outputs: None\n",
    "    \"\"\"\n",
    "    conn = sqlite3.connect('worldbank_etl.db')\n",
    "    cur = conn.cursor()\n",
    "\n",
    "    if results:\n",
    "        for result in results:\n",
    "            countryname, countrycode, year, gdp = result\n",
    "            sql_string = 'INSERT INTO gdp (countryname, countrycode, year, gdp) VALUES (\"{}\", \"{}\", {}, {});'.format(\n",
    "                countryname, countrycode, year, gdp)\n",
    "            try:\n",
    "                cur.execute(sql_string)\n",
    "            except Exception as e:\n",
    "                print('error occurred:', e, result)\n",
    "    conn.commit()\n",
    "    conn.close()\n",
    "\n",
    "    return None"
   ]
  },
  {
   "cell_type": "markdown",
   "metadata": {},
   "source": [
    "## ETL测试"
   ]
  },
  {
   "cell_type": "code",
   "execution_count": 39,
   "metadata": {
    "ExecuteTime": {
     "end_time": "2020-03-20T02:37:52.224850Z",
     "start_time": "2020-03-20T02:37:49.240718Z"
    }
   },
   "outputs": [],
   "source": [
    "with open('data/gdp_data.csv') as f:\n",
    "    # 使用生成器按行读取数据\n",
    "    for line in extract_lines(f):\n",
    "        data = line.split(',')\n",
    "        # 前几列不是数据本身\n",
    "        if len(data) == 63:\n",
    "            if data[0] == '\"Country Name\"':\n",
    "                colnames = []\n",
    "                for i, datum in enumerate(data):\n",
    "                    colnames.append(datum.replace('\"', ''))\n",
    "            else:\n",
    "                # 对数据本身进行转换\n",
    "                results = transform_indicator_data(data, colnames)\n",
    "                load_indicator_data(results)"
   ]
  },
  {
   "cell_type": "code",
   "execution_count": 45,
   "metadata": {
    "ExecuteTime": {
     "end_time": "2020-03-20T02:45:39.247602Z",
     "start_time": "2020-03-20T02:45:39.221934Z"
    }
   },
   "outputs": [],
   "source": [
    "# 查看数据库是否已加载数据\n",
    "conn = sqlite3.connect('worldbank_etl.db')\n",
    "cur = conn.cursor()\n",
    "\n",
    "# 测试查询\n",
    "df = pd.read_sql(\"SELECT * FROM gdp\", con=conn)\n",
    "\n",
    "conn.commit()\n",
    "conn.close()"
   ]
  },
  {
   "cell_type": "code",
   "execution_count": 46,
   "metadata": {
    "ExecuteTime": {
     "end_time": "2020-03-20T02:45:41.835086Z",
     "start_time": "2020-03-20T02:45:41.824946Z"
    }
   },
   "outputs": [
    {
     "data": {
      "text/html": [
       "<div>\n",
       "<style scoped>\n",
       "    .dataframe tbody tr th:only-of-type {\n",
       "        vertical-align: middle;\n",
       "    }\n",
       "\n",
       "    .dataframe tbody tr th {\n",
       "        vertical-align: top;\n",
       "    }\n",
       "\n",
       "    .dataframe thead th {\n",
       "        text-align: right;\n",
       "    }\n",
       "</style>\n",
       "<table border=\"1\" class=\"dataframe\">\n",
       "  <thead>\n",
       "    <tr style=\"text-align: right;\">\n",
       "      <th></th>\n",
       "      <th>countryname</th>\n",
       "      <th>countrycode</th>\n",
       "      <th>year</th>\n",
       "      <th>gdp</th>\n",
       "    </tr>\n",
       "  </thead>\n",
       "  <tbody>\n",
       "    <tr>\n",
       "      <th>0</th>\n",
       "      <td>Aruba</td>\n",
       "      <td>ABW</td>\n",
       "      <td>1994</td>\n",
       "      <td>1.330168e+09</td>\n",
       "    </tr>\n",
       "    <tr>\n",
       "      <th>1</th>\n",
       "      <td>Aruba</td>\n",
       "      <td>ABW</td>\n",
       "      <td>1995</td>\n",
       "      <td>1.320670e+09</td>\n",
       "    </tr>\n",
       "    <tr>\n",
       "      <th>2</th>\n",
       "      <td>Aruba</td>\n",
       "      <td>ABW</td>\n",
       "      <td>1996</td>\n",
       "      <td>1.379888e+09</td>\n",
       "    </tr>\n",
       "    <tr>\n",
       "      <th>3</th>\n",
       "      <td>Aruba</td>\n",
       "      <td>ABW</td>\n",
       "      <td>1997</td>\n",
       "      <td>1.531844e+09</td>\n",
       "    </tr>\n",
       "    <tr>\n",
       "      <th>4</th>\n",
       "      <td>Aruba</td>\n",
       "      <td>ABW</td>\n",
       "      <td>1998</td>\n",
       "      <td>1.665363e+09</td>\n",
       "    </tr>\n",
       "    <tr>\n",
       "      <th>5</th>\n",
       "      <td>Aruba</td>\n",
       "      <td>ABW</td>\n",
       "      <td>1999</td>\n",
       "      <td>1.722799e+09</td>\n",
       "    </tr>\n",
       "    <tr>\n",
       "      <th>6</th>\n",
       "      <td>Aruba</td>\n",
       "      <td>ABW</td>\n",
       "      <td>2000</td>\n",
       "      <td>1.873453e+09</td>\n",
       "    </tr>\n",
       "    <tr>\n",
       "      <th>7</th>\n",
       "      <td>Aruba</td>\n",
       "      <td>ABW</td>\n",
       "      <td>2001</td>\n",
       "      <td>1.920263e+09</td>\n",
       "    </tr>\n",
       "    <tr>\n",
       "      <th>8</th>\n",
       "      <td>Aruba</td>\n",
       "      <td>ABW</td>\n",
       "      <td>2002</td>\n",
       "      <td>1.941095e+09</td>\n",
       "    </tr>\n",
       "    <tr>\n",
       "      <th>9</th>\n",
       "      <td>Aruba</td>\n",
       "      <td>ABW</td>\n",
       "      <td>2003</td>\n",
       "      <td>2.021302e+09</td>\n",
       "    </tr>\n",
       "    <tr>\n",
       "      <th>10</th>\n",
       "      <td>Aruba</td>\n",
       "      <td>ABW</td>\n",
       "      <td>2004</td>\n",
       "      <td>2.228279e+09</td>\n",
       "    </tr>\n",
       "    <tr>\n",
       "      <th>11</th>\n",
       "      <td>Aruba</td>\n",
       "      <td>ABW</td>\n",
       "      <td>2005</td>\n",
       "      <td>2.331006e+09</td>\n",
       "    </tr>\n",
       "    <tr>\n",
       "      <th>12</th>\n",
       "      <td>Aruba</td>\n",
       "      <td>ABW</td>\n",
       "      <td>2006</td>\n",
       "      <td>2.421475e+09</td>\n",
       "    </tr>\n",
       "    <tr>\n",
       "      <th>13</th>\n",
       "      <td>Aruba</td>\n",
       "      <td>ABW</td>\n",
       "      <td>2007</td>\n",
       "      <td>2.623726e+09</td>\n",
       "    </tr>\n",
       "    <tr>\n",
       "      <th>14</th>\n",
       "      <td>Aruba</td>\n",
       "      <td>ABW</td>\n",
       "      <td>2008</td>\n",
       "      <td>2.791961e+09</td>\n",
       "    </tr>\n",
       "    <tr>\n",
       "      <th>15</th>\n",
       "      <td>Aruba</td>\n",
       "      <td>ABW</td>\n",
       "      <td>2009</td>\n",
       "      <td>2.498933e+09</td>\n",
       "    </tr>\n",
       "    <tr>\n",
       "      <th>16</th>\n",
       "      <td>Aruba</td>\n",
       "      <td>ABW</td>\n",
       "      <td>2010</td>\n",
       "      <td>2.467704e+09</td>\n",
       "    </tr>\n",
       "    <tr>\n",
       "      <th>17</th>\n",
       "      <td>Aruba</td>\n",
       "      <td>ABW</td>\n",
       "      <td>2011</td>\n",
       "      <td>2.584464e+09</td>\n",
       "    </tr>\n",
       "    <tr>\n",
       "      <th>18</th>\n",
       "      <td>Afghanistan</td>\n",
       "      <td>AFG</td>\n",
       "      <td>1960</td>\n",
       "      <td>5.377778e+08</td>\n",
       "    </tr>\n",
       "    <tr>\n",
       "      <th>19</th>\n",
       "      <td>Afghanistan</td>\n",
       "      <td>AFG</td>\n",
       "      <td>1961</td>\n",
       "      <td>5.488889e+08</td>\n",
       "    </tr>\n",
       "  </tbody>\n",
       "</table>\n",
       "</div>"
      ],
      "text/plain": [
       "    countryname countrycode  year           gdp\n",
       "0         Aruba         ABW  1994  1.330168e+09\n",
       "1         Aruba         ABW  1995  1.320670e+09\n",
       "2         Aruba         ABW  1996  1.379888e+09\n",
       "3         Aruba         ABW  1997  1.531844e+09\n",
       "4         Aruba         ABW  1998  1.665363e+09\n",
       "5         Aruba         ABW  1999  1.722799e+09\n",
       "6         Aruba         ABW  2000  1.873453e+09\n",
       "7         Aruba         ABW  2001  1.920263e+09\n",
       "8         Aruba         ABW  2002  1.941095e+09\n",
       "9         Aruba         ABW  2003  2.021302e+09\n",
       "10        Aruba         ABW  2004  2.228279e+09\n",
       "11        Aruba         ABW  2005  2.331006e+09\n",
       "12        Aruba         ABW  2006  2.421475e+09\n",
       "13        Aruba         ABW  2007  2.623726e+09\n",
       "14        Aruba         ABW  2008  2.791961e+09\n",
       "15        Aruba         ABW  2009  2.498933e+09\n",
       "16        Aruba         ABW  2010  2.467704e+09\n",
       "17        Aruba         ABW  2011  2.584464e+09\n",
       "18  Afghanistan         AFG  1960  5.377778e+08\n",
       "19  Afghanistan         AFG  1961  5.488889e+08"
      ]
     },
     "execution_count": 46,
     "metadata": {},
     "output_type": "execute_result"
    }
   ],
   "source": [
    "df.head(20)"
   ]
  },
  {
   "cell_type": "markdown",
   "metadata": {},
   "source": [
    "# 总结\n",
    "* 在提取数据时应注意，数据开头的行并不是数据本身，而是列名，对不同的数据部分需使用不同的处理方式。\n",
    "* **ETL**管道包含从数据源提取数据（这是里从 csv 文件里）、将数据转换成可用性更高的形式、将数据存储到另一个地方这三步。目的是将企业中的分散、零乱、标准不统一的数据整合到一起，为企业的决策提供分析依据。ETL是BI项目重要的一个环节，其设计的好坏影响生成数据的质量，直接关系到BI项目的成败。\n",
    "* 在这个项目中，我们熟悉了**ETL**的整体流程，在实际工作中，我们需要用到一些ETL的工具，其原因在与：\n",
    "1. 当数据来自不同的物理主机，这时候如使用SQL语句去处理的话，就显得比较吃力且开销也更大。\n",
    "2. 数据来源可以是各种不同的数据库或者文件，这时候需要先把他们整理成统一的格式后才可以进行数据的处理，这一过程用代码实现显然有些麻烦。\n",
    "3. 在数据库中我们当然可以使用存储过程去处理数据，但是处理海量数据的时候存储过程显然比较吃力，而且会占用较多数据库的资源，这可能会导致数据资源不足，进而影响数据库的性能。\n",
    "* **ETL**工具的优点在于：\n",
    "1. 支持多种异构数据源的连接（部分）\n",
    "2. 图形化的界面操作十分方便\n",
    "3. 处理海量数据速度快、流程更清晰等\n",
    "* 常用的**ETL**工具有：**Kettle**，**Datastage**，**Informatica**等，对于**ETL**工具的使用还有待学习"
   ]
  },
  {
   "cell_type": "code",
   "execution_count": null,
   "metadata": {},
   "outputs": [],
   "source": []
  }
 ],
 "metadata": {
  "hide_input": false,
  "kernelspec": {
   "display_name": "Python 3",
   "language": "python",
   "name": "python3"
  },
  "language_info": {
   "codemirror_mode": {
    "name": "ipython",
    "version": 3
   },
   "file_extension": ".py",
   "mimetype": "text/x-python",
   "name": "python",
   "nbconvert_exporter": "python",
   "pygments_lexer": "ipython3",
   "version": "3.7.6"
  },
  "toc": {
   "base_numbering": 1,
   "nav_menu": {},
   "number_sections": true,
   "sideBar": true,
   "skip_h1_title": false,
   "title_cell": "Table of Contents",
   "title_sidebar": "Contents",
   "toc_cell": false,
   "toc_position": {},
   "toc_section_display": true,
   "toc_window_display": false
  },
  "varInspector": {
   "cols": {
    "lenName": 16,
    "lenType": 16,
    "lenVar": 40
   },
   "kernels_config": {
    "python": {
     "delete_cmd_postfix": "",
     "delete_cmd_prefix": "del ",
     "library": "var_list.py",
     "varRefreshCmd": "print(var_dic_list())"
    },
    "r": {
     "delete_cmd_postfix": ") ",
     "delete_cmd_prefix": "rm(",
     "library": "var_list.r",
     "varRefreshCmd": "cat(var_dic_list()) "
    }
   },
   "types_to_exclude": [
    "module",
    "function",
    "builtin_function_or_method",
    "instance",
    "_Feature"
   ],
   "window_display": false
  }
 },
 "nbformat": 4,
 "nbformat_minor": 2
}
